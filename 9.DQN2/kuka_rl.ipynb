{
  "cells": [
    {
      "cell_type": "code",
      "execution_count": 2,
      "metadata": {
        "id": "-PoshFFnUnm5"
      },
      "outputs": [],
      "source": [
        "%matplotlib inline"
      ]
    },
    {
      "cell_type": "markdown",
      "metadata": {
        "id": "ijWDQ2pmUnm9"
      },
      "source": [
        "\n",
        "# Kuka Reinforcement Learning (DQN)\n",
        "\n",
        "\n",
        "This notebook shows how to train a Deep Q Learning (DQN) agent\n",
        "on the pyBullet Kuka environment based on:\n",
        "https://pytorch.org/tutorials/intermediate/reinforcement_q_learning.html\n",
        "\n",
        "**Task**\n",
        "The agent has to decide between seven (2+2+2+1) actions - moving the manipulator\n",
        "in $x$ (2), or $y$ (2) directions by vertical angle offset (2) or not moving at all (1) - so that the manipulator can grasp an object. We assume that the velocity for each directions equal and there is a \"height hack\" where the gripper automatically moves down for each action.\n",
        "\n",
        "As the agent observes the current state of the environment and chooses\n",
        "an action, the environment *transitions* to a new state, and also\n",
        "returns a reward that indicates the consequences of the action. In this\n",
        "task, the reward is 1 if one of the objects is above height .2 at the end\n",
        "of the episode.\n",
        "\n",
        "The pyBullet Kuka is designed so that the inputs to the agent are (48, 48, 3) images\n",
        "representing the environment state.\n",
        "Neural networks can solve the task purely by looking at the\n",
        "scene, so we'll use stack of consecutive screens as an input. In this way, we are hoping to capture the dynamics of the environment.\n",
        "\n",
        "**Packages**\n",
        "\n",
        "First, let's import needed packages. Firstly, we need gym\n",
        "(Install using `pip install gym`) and pyBullet (Install using `pip install pybullet`.\n",
        "We'll also use the following from PyTorch:\n",
        "\n",
        "-  neural networks (``torch.nn``)\n",
        "-  optimization (``torch.optim``)\n",
        "-  automatic differentiation (``torch.autograd``)\n",
        "-  utilities for vision tasks (``torchvision`` - `a separate\n",
        "   package <https://github.com/pytorch/vision>`__).\n",
        "\n",
        "\n",
        "Also for display the average reward and agent progress we are going to use tensorboarX (`pip install tensorboardX`.) To run tensorboard web server, you need to install it using `pip install tensorboard`.\n",
        "\n"
      ]
    },
    {
      "cell_type": "code",
      "execution_count": 3,
      "metadata": {
        "id": "3yNJmDM3UnnA",
        "outputId": "63c79211-eb25-4254-8163-42c61b5ff6e1",
        "colab": {
          "base_uri": "https://localhost:8080/"
        }
      },
      "outputs": [
        {
          "output_type": "stream",
          "name": "stdout",
          "text": [
            "Collecting pybullet\n",
            "  Downloading pybullet-3.2.6-cp310-cp310-manylinux_2_17_x86_64.manylinux2014_x86_64.whl (103.2 MB)\n",
            "\u001b[2K     \u001b[90m━━━━━━━━━━━━━━━━━━━━━━━━━━━━━━━━━━━━━━━━\u001b[0m \u001b[32m103.2/103.2 MB\u001b[0m \u001b[31m8.1 MB/s\u001b[0m eta \u001b[36m0:00:00\u001b[0m\n",
            "\u001b[?25hInstalling collected packages: pybullet\n",
            "Successfully installed pybullet-3.2.6\n",
            "Collecting tensorboardX\n",
            "  Downloading tensorboardX-2.6.2.2-py2.py3-none-any.whl (101 kB)\n",
            "\u001b[2K     \u001b[90m━━━━━━━━━━━━━━━━━━━━━━━━━━━━━━━━━━━━━━━━\u001b[0m \u001b[32m101.7/101.7 kB\u001b[0m \u001b[31m2.9 MB/s\u001b[0m eta \u001b[36m0:00:00\u001b[0m\n",
            "\u001b[?25hRequirement already satisfied: numpy in /usr/local/lib/python3.10/dist-packages (from tensorboardX) (1.25.2)\n",
            "Requirement already satisfied: packaging in /usr/local/lib/python3.10/dist-packages (from tensorboardX) (24.0)\n",
            "Requirement already satisfied: protobuf>=3.20 in /usr/local/lib/python3.10/dist-packages (from tensorboardX) (3.20.3)\n",
            "Installing collected packages: tensorboardX\n",
            "Successfully installed tensorboardX-2.6.2.2\n",
            "current_dir=/usr/local/lib/python3.10/dist-packages/pybullet_envs/bullet\n"
          ]
        },
        {
          "output_type": "stream",
          "name": "stderr",
          "text": [
            "/usr/local/lib/python3.10/dist-packages/gym/envs/registration.py:440: UserWarning: \u001b[33mWARN: The `registry.env_specs` property along with `EnvSpecTree` is deprecated. Please use `registry` directly as a dictionary instead.\u001b[0m\n",
            "  logger.warn(\n"
          ]
        }
      ],
      "source": [
        "!pip install pybullet\n",
        "!pip install tensorboardX\n",
        "import gym\n",
        "import math\n",
        "import random\n",
        "import numpy as np\n",
        "import matplotlib\n",
        "import matplotlib.pyplot as plt\n",
        "from collections import namedtuple\n",
        "import collections\n",
        "from itertools import count\n",
        "import timeit\n",
        "from datetime import timedelta\n",
        "from PIL import Image\n",
        "from tensorboardX import SummaryWriter\n",
        "\n",
        "import torch\n",
        "import torch.nn as nn\n",
        "import torch.optim as optim\n",
        "import torch.nn.functional as F\n",
        "import torchvision.transforms as T\n",
        "\n",
        "\n",
        "from pybullet_envs.bullet.kuka_diverse_object_gym_env import KukaDiverseObjectEnv\n",
        "from gym import spaces\n",
        "import pybullet as p\n",
        "\n",
        "env = KukaDiverseObjectEnv(renders=False, isDiscrete=True, removeHeightHack=False, maxSteps=20)\n",
        "env.cid = p.connect(p.DIRECT)\n",
        "\n",
        "# set up matplotlib\n",
        "is_ipython = 'inline' in matplotlib.get_backend()\n",
        "if is_ipython:\n",
        "    from IPython import display\n",
        "\n",
        "plt.ion()\n",
        "\n",
        "# if gpu is to be used\n",
        "device = torch.device(\"cuda\" if torch.cuda.is_available() else \"cpu\")"
      ]
    },
    {
      "cell_type": "markdown",
      "metadata": {
        "id": "tA1eIZvJUnnB"
      },
      "source": [
        "# Replay Memory\n",
        "\n",
        "\n",
        "We'll be using experience replay memory for training our DQN. It stores\n",
        "the transitions that the agent observes, allowing us to reuse this data\n",
        "later. By sampling from it randomly, the transitions that build up a\n",
        "batch are decorrelated. It has been shown that this greatly stabilizes\n",
        "and improves the DQN training procedure.\n",
        "\n",
        "For this, we're going to need two classses:\n",
        "\n",
        "-  ``Transition`` - a named tuple representing a single transition in\n",
        "   our environment. It essentially maps (state, action) pairs\n",
        "   to their (next_state, reward) result, with the state being the\n",
        "   consecutive stacked screens image as described later on.\n",
        "-  ``ReplayMemory`` - a cyclic buffer of bounded size that holds the\n",
        "   transitions observed recently. It also implements a ``.sample()``\n",
        "   method for selecting a random batch of transitions for training.\n",
        "\n",
        "\n"
      ]
    },
    {
      "cell_type": "code",
      "execution_count": 4,
      "metadata": {
        "id": "pLHEupxGUnnC"
      },
      "outputs": [],
      "source": [
        "Transition = namedtuple('Transition',\n",
        "                        ('state', 'action', 'next_state', 'reward'))\n",
        "\n",
        "\n",
        "class ReplayMemory(object):\n",
        "\n",
        "    def __init__(self, capacity):\n",
        "        self.capacity = capacity\n",
        "        self.memory = []\n",
        "        self.position = 0\n",
        "\n",
        "    def push(self, *args):\n",
        "        \"\"\"Saves a transition.\"\"\"\n",
        "        if len(self.memory) < self.capacity:\n",
        "            self.memory.append(None)\n",
        "        self.memory[self.position] = Transition(*args)\n",
        "        self.position = (self.position + 1) % self.capacity\n",
        "\n",
        "    def sample(self, batch_size):\n",
        "        return random.sample(self.memory, batch_size)\n",
        "\n",
        "    def __len__(self):\n",
        "        return len(self.memory)"
      ]
    },
    {
      "cell_type": "markdown",
      "metadata": {
        "id": "cpWEic80UnnC"
      },
      "source": [
        "Now, let's define our model. But first, let's quickly recap what a DQN is.\n",
        "\n",
        "# DQN algorithm\n",
        "\n",
        "\n",
        "Our aim will be to train a policy that tries to maximize the discounted,\n",
        "cumulative reward\n",
        "$R_{t_0} = \\sum_{t=t_0}^{\\infty} \\gamma^{t - t_0} r_t$, where\n",
        "$R_{t_0}$ is also known as the *return*. The discount,\n",
        "$\\gamma$, should be a constant between $0$ and $1$\n",
        "that ensures the sum converges. It makes rewards from the uncertain far\n",
        "future less important for our agent than the ones in the near future\n",
        "that it can be fairly confident about.\n",
        "\n",
        "The main idea behind Q-learning is that if we had a function\n",
        "$Q^*: State \\times Action \\rightarrow \\mathbb{R}$, that could tell\n",
        "us what our return would be, if we were to take an action in a given\n",
        "state, then we could easily construct a policy that maximizes our\n",
        "rewards:\n",
        "\n",
        "\\begin{align}\\pi^*(s) = \\arg\\!\\max_a \\ Q^*(s, a)\\end{align}\n",
        "\n",
        "However, we don't know everything about the world, so we don't have\n",
        "access to $Q^*$. But, since neural networks are universal function\n",
        "approximators, we can simply create one and train it to resemble\n",
        "$Q^*$.\n",
        "\n",
        "For our training update rule, we'll use a fact that every $Q$\n",
        "function for some policy obeys the Bellman equation:\n",
        "\n",
        "\\begin{align}Q^{\\pi}(s, a) = r + \\gamma Q^{\\pi}(s', \\pi(s'))\\end{align}\n",
        "\n",
        "The difference between the two sides of the equality is known as the\n",
        "temporal difference error, $\\delta$:\n",
        "\n",
        "\\begin{align}\\delta = Q(s, a) - (r + \\gamma \\max_a Q(s', a))\\end{align}\n",
        "\n",
        "To minimise this error, we will use the `Huber\n",
        "loss <https://en.wikipedia.org/wiki/Huber_loss>`__. The Huber loss acts\n",
        "like the mean squared error when the error is small, but like the mean\n",
        "absolute error when the error is large - this makes it more robust to\n",
        "outliers when the estimates of $Q$ are very noisy. We calculate\n",
        "this over a batch of transitions, $B$, sampled from the replay\n",
        "memory:\n",
        "\n",
        "\\begin{align}\\mathcal{L} = \\frac{1}{|B|}\\sum_{(s, a, s', r) \\ \\in \\ B} \\mathcal{L}(\\delta)\\end{align}\n",
        "\n",
        "\\begin{align}\\text{where} \\quad \\mathcal{L}(\\delta) = \\begin{cases}\n",
        "     \\frac{1}{2}{\\delta^2}  & \\text{for } |\\delta| \\le 1, \\\\\n",
        "     |\\delta| - \\frac{1}{2} & \\text{otherwise.}\n",
        "   \\end{cases}\\end{align}\n",
        "\n",
        "## Q-network\n",
        "\n",
        "\n",
        "Our model will be a convolutional neural network that takes in the\n",
        "stacked screen patches. It has seven\n",
        "outputs, representing $Q(s, d_x = d_v)$, $Q(s, d_x = -d_v)$, $Q(s, d_y = d_v)$, $Q(s, d_y = -d_v)$, $Q(s, d_a=0.25)$,\n",
        "and $Q(s, d_a=-0.25)$ (where $d_v=0.06$ is the velocity in PyBullet, $d_a$ is vertical angle offset for the gripper, and $s$ is the input to the\n",
        "network). This discretization of action is based on the continuous action which is a 5-vector parameterizing XYZ offset, vertical angle offset (radians), and grasp angle (radians). The continuous action (5-vector) is discretized as follows with \"height hack\" where the gripper automatically moves down for each action, and grasp angle in PyBullet is set to 0.3:\n",
        "```\n",
        "        dx = [0, -dv, dv, 0, 0, 0, 0][action]\n",
        "        dy = [0, 0, 0, -dv, dv, 0, 0][action]\n",
        "        dz = -dv\n",
        "        da = [0, 0, 0, 0, 0, -0.25, 0.25][action]\n",
        "        \n",
        "        action_continuous = [dx, dy, dz, da, 0.3]\n",
        "```\n",
        "In effect, the network is trying to predict the *expected return* of\n",
        "taking each action given the current input. In order to capture the dynamics of the environment, we stack 5 consecutive screens of the environment after each step together and then feed them to the network."
      ]
    },
    {
      "cell_type": "code",
      "execution_count": 5,
      "metadata": {
        "id": "jZ-751B7UnnD"
      },
      "outputs": [],
      "source": [
        "STACK_SIZE = 5"
      ]
    },
    {
      "cell_type": "code",
      "execution_count": 12,
      "metadata": {
        "id": "7HXwXropUnnD"
      },
      "outputs": [],
      "source": [
        "class DQN(nn.Module):\n",
        "    def __init__(self, h, w, outputs):\n",
        "        super(DQN, self).__init__()\n",
        "        self.conv1 = nn.Conv2d(STACK_SIZE, 32, kernel_size=8, stride=4)\n",
        "        self.bn1 = nn.BatchNorm2d(32)\n",
        "        self.conv2 = nn.Conv2d(32, 64, kernel_size=4, stride=2)\n",
        "        self.bn2 = nn.BatchNorm2d(64)\n",
        "        self.conv3 = nn.Conv2d(64, 64, kernel_size=3, stride=1)\n",
        "\n",
        "        # Number of Linear input connections depends on output of conv2d layers\n",
        "        # and therefore the input image size, so compute it.\n",
        "        def conv2d_size_out(size, kernel_size = 5, stride = 2):\n",
        "            print(\"conv2d output size:\",(size - (kernel_size - 1) - 1) // stride  + 1)\n",
        "            return (size - (kernel_size - 1) - 1) // stride  + 1\n",
        "        convw = conv2d_size_out(conv2d_size_out(conv2d_size_out(w,8,4),4,2),3,1)\n",
        "        convh = conv2d_size_out(conv2d_size_out(conv2d_size_out(h,8,4),4,2),3,1)\n",
        "        linear_input_size = convw * convh * 64\n",
        "        self.linear = nn.Linear(linear_input_size, 512)\n",
        "        self.head = nn.Linear(512, outputs)\n",
        "\n",
        "    # Called with either one element to determine next action, or a batch\n",
        "    # during optimization. Returns tensor([[left0exp,right0exp]...]).\n",
        "    def forward(self, x):\n",
        "        x = F.relu(self.bn1(self.conv1(x)))\n",
        "        x = F.relu(self.bn2(self.conv2(x)))\n",
        "        x = F.relu(self.conv3(x))\n",
        "        x = F.relu(self.linear(x.view(x.size(0), -1)))\n",
        "        return self.head(x)"
      ]
    },
    {
      "cell_type": "markdown",
      "metadata": {
        "id": "VTDSvDVNUnnE"
      },
      "source": [
        "## Input extraction\n",
        "\n",
        "\n",
        "The code below are utilities for extracting and processing rendered\n",
        "images from the environment. It uses the ``torchvision`` package, which\n",
        "makes it easy to compose image transforms. Once you run the cell it will\n",
        "display an example patch that it extracted.\n",
        "\n",
        "\n"
      ]
    },
    {
      "cell_type": "code",
      "execution_count": 7,
      "metadata": {
        "id": "5B4fbx6MUnnE",
        "outputId": "ad484ab0-afaa-41cc-dc2b-5854f0b6d615",
        "colab": {
          "base_uri": "https://localhost:8080/",
          "height": 559
        }
      },
      "outputs": [
        {
          "output_type": "stream",
          "name": "stderr",
          "text": [
            "<ipython-input-7-983362ed198a>:3: DeprecationWarning: CUBIC is deprecated and will be removed in Pillow 10 (2023-07-01). Use BICUBIC or Resampling.BICUBIC instead.\n",
            "  T.Resize(40, interpolation=Image.CUBIC),\n"
          ]
        },
        {
          "output_type": "stream",
          "name": "stdout",
          "text": [
            "torch.Size([1, 1, 40, 40])\n",
            "torch.Size([1, 40, 40])\n",
            "torch.Size([40, 40])\n"
          ]
        },
        {
          "output_type": "display_data",
          "data": {
            "text/plain": [
              "<Figure size 640x480 with 1 Axes>"
            ],
            "image/png": "[encoded data removed]"
          },
          "metadata": {}
        }
      ],
      "source": [
        "preprocess = T.Compose([T.ToPILImage(),\n",
        "                    T.Grayscale(num_output_channels=1),\n",
        "                    T.Resize(40, interpolation=Image.CUBIC),\n",
        "                    T.ToTensor()])\n",
        "\n",
        "def get_screen():\n",
        "    global stacked_screens\n",
        "    # Returned screen requested by gym is 400x600x3, but is sometimes larger\n",
        "    # such as 800x1200x3. Transpose it into torch order (CHW).\n",
        "    screen = env._get_observation().transpose((2, 0, 1))\n",
        "    # Convert to float, rescale, convert to torch tensor\n",
        "    # (this doesn't require a copy)\n",
        "\n",
        "    screen = np.ascontiguousarray(screen, dtype=np.float32) / 255\n",
        "    screen = torch.from_numpy(screen)\n",
        "    # Resize, and add a batch dimension (BCHW)\n",
        "    return preprocess(screen).unsqueeze(0).to(device)\n",
        "\n",
        "\n",
        "env.reset()\n",
        "plt.figure()\n",
        "print(get_screen().shape)\n",
        "print(get_screen().squeeze(0).shape)\n",
        "print(get_screen().squeeze(0)[-1].shape)\n",
        "plt.imshow(get_screen().cpu().squeeze(0)[-1].numpy(),cmap='Greys',\n",
        "           interpolation='none')\n",
        "plt.title('Example extracted screen')\n",
        "plt.show()"
      ]
    },
    {
      "cell_type": "code",
      "source": [
        "get_screen().cpu().squeeze(0)"
      ],
      "metadata": {
        "id": "HeGYUnzdVwkS",
        "outputId": "27a139ab-a1f8-4359-85d9-06f0971eeffa",
        "colab": {
          "base_uri": "https://localhost:8080/",
          "height": 0
        }
      },
      "execution_count": 15,
      "outputs": [
        {
          "output_type": "execute_result",
          "data": {
            "text/plain": [
              "tensor([[[0.6275, 0.6353, 0.6431,  ..., 0.4706, 0.4863, 0.5020],\n",
              "         [0.6314, 0.6471, 0.6549,  ..., 0.4745, 0.4863, 0.5059],\n",
              "         [0.6235, 0.6353, 0.6471,  ..., 0.4745, 0.4863, 0.5059],\n",
              "         ...,\n",
              "         [0.5882, 0.6235, 0.5137,  ..., 0.6078, 0.4588, 0.5098],\n",
              "         [0.5961, 0.6118, 0.6627,  ..., 0.4863, 0.4902, 0.5176],\n",
              "         [0.6078, 0.6118, 0.6275,  ..., 0.4353, 0.5020, 0.5294]]])"
            ]
          },
          "metadata": {},
          "execution_count": 15
        }
      ]
    },
    {
      "cell_type": "markdown",
      "metadata": {
        "id": "Zf7lKJ9BUnnF"
      },
      "source": [
        "# Training\n",
        "\n",
        "\n",
        "## Hyperparameters and utility function\n",
        "\n",
        "This cell instantiates our model and its optimizer, and defines the\n",
        "utility function:\n",
        "\n",
        "-  ``select_action`` - will select an action accordingly to an epsilon\n",
        "   greedy policy. Simply put, we'll sometimes use our model for choosing\n",
        "   the action, and sometimes we'll just sample one uniformly. The\n",
        "   probability of choosing a random action will start at ``EPS_START``\n",
        "   and will decay exponentially towards ``EPS_END``. ``EPS_DECAY``\n",
        "   controls the rate of the decay.\n"
      ]
    },
    {
      "cell_type": "code",
      "execution_count": 13,
      "metadata": {
        "id": "KZGsYuupUnnF",
        "outputId": "cedfdf5d-a562-4f29-f316-e583fcf7f22c",
        "colab": {
          "base_uri": "https://localhost:8080/"
        }
      },
      "outputs": [
        {
          "output_type": "stream",
          "name": "stdout",
          "text": [
            "torch.Size([1, 1, 40, 40])\n",
            "7 Discrete(7)\n",
            "conv2d output size: 9\n",
            "conv2d output size: 3\n",
            "conv2d output size: 1\n",
            "conv2d output size: 9\n",
            "conv2d output size: 3\n",
            "conv2d output size: 1\n",
            "conv2d output size: 9\n",
            "conv2d output size: 3\n",
            "conv2d output size: 1\n",
            "conv2d output size: 9\n",
            "conv2d output size: 3\n",
            "conv2d output size: 1\n"
          ]
        }
      ],
      "source": [
        "BATCH_SIZE = 32\n",
        "GAMMA = 0.99\n",
        "EPS_START = 0.9\n",
        "EPS_END = 0.1\n",
        "EPS_DECAY = 200\n",
        "EPS_DECAY_LAST_FRAME = 10**4\n",
        "TARGET_UPDATE = 1000\n",
        "LEARNING_RATE = 1e-4\n",
        "\n",
        "# Get screen size so that we can initialize layers correctly based on shape\n",
        "# returned from pybullet (48, 48, 3).\n",
        "init_screen = get_screen()\n",
        "_, _, screen_height, screen_width = init_screen.shape\n",
        "print(init_screen.shape)\n",
        "\n",
        "# Get number of actions from gym action space\n",
        "n_actions = env.action_space.n\n",
        "print(n_actions, env.action_space)\n",
        "\n",
        "policy_net = DQN(screen_height, screen_width, n_actions).to(device)\n",
        "target_net = DQN(screen_height, screen_width, n_actions).to(device)\n",
        "target_net.load_state_dict(policy_net.state_dict())\n",
        "target_net.eval()\n",
        "\n",
        "optimizer = optim.Adam(policy_net.parameters(), lr=LEARNING_RATE)\n",
        "memory = ReplayMemory(10000)\n",
        "\n",
        "\n",
        "eps_threshold = 0\n",
        "\n",
        "def select_action(state, i_episode):\n",
        "    global steps_done\n",
        "    global eps_threshold\n",
        "    sample = random.random()\n",
        "    eps_threshold = max(EPS_END, EPS_START - i_episode / EPS_DECAY_LAST_FRAME)\n",
        "    if sample > eps_threshold:\n",
        "        with torch.no_grad():\n",
        "            # t.max(1) will return largest column value of each row.\n",
        "            # second column on max result is index of where max element was\n",
        "            # found, so we pick action with the larger expected reward.\n",
        "            print(\"argmax action\",policy_net(state).max(1))\n",
        "            return policy_net(state).max(1)[1].view(1, 1)\n",
        "    else:\n",
        "        print(\"argmax action\",random.randrange(n_actions))\n",
        "        return torch.tensor([[random.randrange(n_actions)]], device=device, dtype=torch.long)\n"
      ]
    },
    {
      "cell_type": "code",
      "source": [],
      "metadata": {
        "id": "xd8ujYLaEeLu"
      },
      "execution_count": null,
      "outputs": []
    },
    {
      "cell_type": "markdown",
      "metadata": {
        "id": "zSLr2MpXUnnG"
      },
      "source": [
        "# Training loop\n",
        "\n",
        "Finally, the code for training our model.\n",
        "\n",
        "Here, you can find an ``optimize_model`` function that performs a\n",
        "single step of the optimization. It first samples a batch, concatenates\n",
        "all the tensors into a single one, computes $Q(s_t, a_t)$ and\n",
        "$V(s_{t+1}) = \\max_a Q(s_{t+1}, a)$, and combines them into our\n",
        "loss. By defition we set $V(s) = 0$ if $s$ is a terminal\n",
        "state. We also use a target network to compute $V(s_{t+1})$ for\n",
        "added stability. The target network has its weights kept frozen most of\n",
        "the time, but is updated with the policy network's weights every so often.\n",
        "This is usually a set number of steps but we shall use episodes for\n",
        "simplicity.\n",
        "\n",
        "\n"
      ]
    },
    {
      "cell_type": "code",
      "execution_count": 36,
      "metadata": {
        "id": "2ow0ieXgUnnG"
      },
      "outputs": [],
      "source": [
        "def optimize_model():\n",
        "    if len(memory) < BATCH_SIZE:\n",
        "        return\n",
        "    transitions = memory.sample(BATCH_SIZE)\n",
        "    # Transpose the batch (see https://stackoverflow.com/a/19343/3343043 for\n",
        "    # detailed explanation). This converts batch-array of Transitions\n",
        "    # to Transition of batch-arrays.\n",
        "    batch = Transition(*zip(*transitions))\n",
        "    print(\"(0)\",len(batch), batch.device)\n",
        "    # print(\"(0.1)\",len(batch.action))\n",
        "    # print(\"(0.2)\",len(batch.state))\n",
        "    # print(\"(0.3)\",len(batch.next_state))\n",
        "    # print(\"(0.4)\",len(batch.reward))\n",
        "\n",
        "    print(\"(0)\",type(batch.state), len(batch.state))\n",
        "\n",
        "    # Compute a mask of non-final states and concatenate the batch elements\n",
        "    # (a final state would've been the one after which simulation ended)\n",
        "    non_final_mask = torch.tensor(tuple(map(lambda s: s is not None,\n",
        "                                          batch.next_state)), device=device, dtype=torch.bool)\n",
        "    print(\"(1)\",non_final_mask.shape)\n",
        "    #print(\"(1.1)\",non_final_mask)\n",
        "    non_final_next_states = torch.cat([s for s in batch.next_state\n",
        "                                                if s is not None])\n",
        "    print(\"(2)\",non_final_next_states.shape)\n",
        "    #print(\"(2.1)\",non_final_next_states)\n",
        "\n",
        "    state_batch = torch.cat(batch.state)\n",
        "    print(\"(3)\",state_batch.shape, state_batch.device)\n",
        "    action_batch = torch.cat(batch.action)\n",
        "    print(\"(4)\",action_batch.shape, action_batch.device)\n",
        "    reward_batch = torch.cat(batch.reward)\n",
        "    print(\"(5)\",reward_batch.shape, reward_batch.device)\n",
        "\n",
        "    # Compute Q(s_t, a) - the model computes Q(s_t), then we select the\n",
        "    # columns of actions taken. These are the actions which would've been taken\n",
        "    # for each batch state according to policy_net\n",
        "    state_action_values = policy_net(state_batch).gather(1, action_batch)\n",
        "\n",
        "    # Compute V(s_{t+1}) for all next states.\n",
        "    # Expected values of actions for non_final_next_states are computed based\n",
        "    # on the \"older\" target_net; selecting their best reward with max(1)[0].\n",
        "    # This is merged based on the mask, such that we'll have either the expected\n",
        "    # state value or 0 in case the state was final.\n",
        "    next_state_values = torch.zeros(BATCH_SIZE, device=device)\n",
        "    next_state_values[non_final_mask] = target_net(non_final_next_states).max(1)[0].detach()\n",
        "    # Compute the expected Q values\n",
        "    expected_state_action_values = (next_state_values * GAMMA) + reward_batch\n",
        "\n",
        "    # Compute Huber loss\n",
        "    loss = F.smooth_l1_loss(state_action_values, expected_state_action_values.unsqueeze(1))\n",
        "\n",
        "    # Optimize the model\n",
        "    optimizer.zero_grad()\n",
        "    loss.backward()\n",
        "    for param in policy_net.parameters():\n",
        "        param.grad.data.clamp_(-1, 1)\n",
        "    optimizer.step()"
      ]
    },
    {
      "cell_type": "markdown",
      "metadata": {
        "id": "sFcxUrcxUnnG"
      },
      "source": [
        "Below, you can find the main training loop. At the beginning we reset\n",
        "the environment and initialize the ``state`` Tensor. Then, we sample\n",
        "an action, execute it, observe the next screen and the reward (always\n",
        "1), and optimize our model once. When the episode ends (our model\n",
        "fails), we restart the loop."
      ]
    },
    {
      "cell_type": "code",
      "execution_count": 26,
      "metadata": {
        "id": "homuJpulUnnG"
      },
      "outputs": [],
      "source": [
        "PATH = 'policy_dqn.pt'"
      ]
    },
    {
      "cell_type": "code",
      "execution_count": 37,
      "metadata": {
        "id": "K0DbnWNmUnnH",
        "outputId": "bc604fd0-35d0-4c07-bee2-9b0f2bc55847",
        "colab": {
          "base_uri": "https://localhost:8080/",
          "height": 349
        }
      },
      "outputs": [
        {
          "output_type": "stream",
          "name": "stdout",
          "text": [
            "argmax action 6\n"
          ]
        },
        {
          "output_type": "error",
          "ename": "AttributeError",
          "evalue": "'Transition' object has no attribute 'device'",
          "traceback": [
            "\u001b[0;31m---------------------------------------------------------------------------\u001b[0m",
            "\u001b[0;31mAttributeError\u001b[0m                            Traceback (most recent call last)",
            "\u001b[0;32m<ipython-input-37-53a0cdfd4b9f>\u001b[0m in \u001b[0;36m<cell line: 7>\u001b[0;34m()\u001b[0m\n\u001b[1;32m     33\u001b[0m \u001b[0;34m\u001b[0m\u001b[0m\n\u001b[1;32m     34\u001b[0m         \u001b[0;31m# Perform one step of the optimization (on the target network)\u001b[0m\u001b[0;34m\u001b[0m\u001b[0;34m\u001b[0m\u001b[0m\n\u001b[0;32m---> 35\u001b[0;31m         \u001b[0moptimize_model\u001b[0m\u001b[0;34m(\u001b[0m\u001b[0;34m)\u001b[0m\u001b[0;34m\u001b[0m\u001b[0;34m\u001b[0m\u001b[0m\n\u001b[0m\u001b[1;32m     36\u001b[0m         \u001b[0;32mif\u001b[0m \u001b[0mdone\u001b[0m\u001b[0;34m:\u001b[0m\u001b[0;34m\u001b[0m\u001b[0;34m\u001b[0m\u001b[0m\n\u001b[1;32m     37\u001b[0m             \u001b[0mreward\u001b[0m \u001b[0;34m=\u001b[0m \u001b[0mreward\u001b[0m\u001b[0;34m.\u001b[0m\u001b[0mcpu\u001b[0m\u001b[0;34m(\u001b[0m\u001b[0;34m)\u001b[0m\u001b[0;34m.\u001b[0m\u001b[0mnumpy\u001b[0m\u001b[0;34m(\u001b[0m\u001b[0;34m)\u001b[0m\u001b[0;34m.\u001b[0m\u001b[0mitem\u001b[0m\u001b[0;34m(\u001b[0m\u001b[0;34m)\u001b[0m\u001b[0;34m\u001b[0m\u001b[0;34m\u001b[0m\u001b[0m\n",
            "\u001b[0;32m<ipython-input-36-8474944f0a8b>\u001b[0m in \u001b[0;36moptimize_model\u001b[0;34m()\u001b[0m\n\u001b[1;32m      7\u001b[0m     \u001b[0;31m# to Transition of batch-arrays.\u001b[0m\u001b[0;34m\u001b[0m\u001b[0;34m\u001b[0m\u001b[0m\n\u001b[1;32m      8\u001b[0m     \u001b[0mbatch\u001b[0m \u001b[0;34m=\u001b[0m \u001b[0mTransition\u001b[0m\u001b[0;34m(\u001b[0m\u001b[0;34m*\u001b[0m\u001b[0mzip\u001b[0m\u001b[0;34m(\u001b[0m\u001b[0;34m*\u001b[0m\u001b[0mtransitions\u001b[0m\u001b[0;34m)\u001b[0m\u001b[0;34m)\u001b[0m\u001b[0;34m\u001b[0m\u001b[0;34m\u001b[0m\u001b[0m\n\u001b[0;32m----> 9\u001b[0;31m     \u001b[0mprint\u001b[0m\u001b[0;34m(\u001b[0m\u001b[0;34m\"(0)\"\u001b[0m\u001b[0;34m,\u001b[0m\u001b[0mlen\u001b[0m\u001b[0;34m(\u001b[0m\u001b[0mbatch\u001b[0m\u001b[0;34m)\u001b[0m\u001b[0;34m,\u001b[0m \u001b[0mbatch\u001b[0m\u001b[0;34m.\u001b[0m\u001b[0mdevice\u001b[0m\u001b[0;34m)\u001b[0m\u001b[0;34m\u001b[0m\u001b[0;34m\u001b[0m\u001b[0m\n\u001b[0m\u001b[1;32m     10\u001b[0m     \u001b[0;31m# print(\"(0.1)\",len(batch.action))\u001b[0m\u001b[0;34m\u001b[0m\u001b[0;34m\u001b[0m\u001b[0m\n\u001b[1;32m     11\u001b[0m     \u001b[0;31m# print(\"(0.2)\",len(batch.state))\u001b[0m\u001b[0;34m\u001b[0m\u001b[0;34m\u001b[0m\u001b[0m\n",
            "\u001b[0;31mAttributeError\u001b[0m: 'Transition' object has no attribute 'device'"
          ]
        }
      ],
      "source": [
        "num_episodes = 2#10000000\n",
        "writer = SummaryWriter()\n",
        "total_rewards = []\n",
        "ten_rewards = 0\n",
        "best_mean_reward = None\n",
        "start_time = timeit.default_timer()\n",
        "for i_episode in range(num_episodes):\n",
        "    # Initialize the environment and state\n",
        "    env.reset()\n",
        "    state = get_screen()\n",
        "    stacked_states = collections.deque(STACK_SIZE*[state],maxlen=STACK_SIZE)\n",
        "    for t in count():\n",
        "        stacked_states_t =  torch.cat(tuple(stacked_states),dim=1)\n",
        "        # Select and perform an action\n",
        "        action = select_action(stacked_states_t, i_episode)\n",
        "        _, reward, done, _ = env.step(action.item())\n",
        "        reward = torch.tensor([reward], device=device)\n",
        "\n",
        "        # Observe new state\n",
        "        next_state = get_screen()\n",
        "        if not done:\n",
        "            next_stacked_states = stacked_states\n",
        "            next_stacked_states.append(next_state)\n",
        "            next_stacked_states_t =  torch.cat(tuple(next_stacked_states),dim=1)\n",
        "        else:\n",
        "            next_stacked_states_t = None\n",
        "\n",
        "        # Store the transition in memory\n",
        "        memory.push(stacked_states_t, action, next_stacked_states_t, reward)\n",
        "\n",
        "        # Move to the next state\n",
        "        stacked_states = next_stacked_states\n",
        "\n",
        "        # Perform one step of the optimization (on the target network)\n",
        "        optimize_model()\n",
        "        if done:\n",
        "            reward = reward.cpu().numpy().item()\n",
        "            ten_rewards += reward\n",
        "            total_rewards.append(reward)\n",
        "            mean_reward = np.mean(total_rewards[-100:])*100\n",
        "            writer.add_scalar(\"epsilon\", eps_threshold, i_episode)\n",
        "            if (best_mean_reward is None or best_mean_reward < mean_reward) and i_episode > 100:\n",
        "                # For saving the model and possibly resuming training\n",
        "                torch.save({\n",
        "                        'policy_net_state_dict': policy_net.state_dict(),\n",
        "                        'target_net_state_dict': target_net.state_dict(),\n",
        "                        'optimizer_policy_net_state_dict': optimizer.state_dict()\n",
        "                        }, PATH)\n",
        "                if best_mean_reward is not None:\n",
        "                    print(\"Best mean reward updated %.1f -> %.1f, model saved\" % (best_mean_reward, mean_reward))\n",
        "                best_mean_reward = mean_reward\n",
        "            break\n",
        "\n",
        "    if i_episode%10 == 0:\n",
        "            writer.add_scalar('ten episodes average rewards', ten_rewards/10.0, i_episode)\n",
        "            ten_rewards = 0\n",
        "\n",
        "    # Update the target network, copying all weights and biases in DQN\n",
        "    if i_episode % TARGET_UPDATE == 0:\n",
        "        target_net.load_state_dict(policy_net.state_dict())\n",
        "    if i_episode>=200 and mean_reward>50:\n",
        "        print('Environment solved in {:d} episodes!\\tAverage Score: {:.2f}'.format(i_episode+1, mean_reward))\n",
        "        break\n",
        "\n",
        "\n",
        "print('Average Score: {:.2f}'.format(mean_reward))\n",
        "elapsed = timeit.default_timer() - start_time\n",
        "print(\"Elapsed time: {}\".format(timedelta(seconds=elapsed)))\n",
        "writer.close()\n",
        "env.close()"
      ]
    },
    {
      "cell_type": "markdown",
      "metadata": {
        "id": "ChSaZ8gkUnnH"
      },
      "source": [
        "Actions are chosen either randomly or based on a policy, getting the next\n",
        "step sample from the gym environment. We record the results in the\n",
        "replay memory and also run optimization step on every iteration.\n",
        "Optimization picks a random batch from the replay memory to do training of the\n",
        "new policy. \"Older\" target_net is also used in optimization to compute the\n",
        "expected Q values; it is updated occasionally to keep it current."
      ]
    },
    {
      "cell_type": "markdown",
      "metadata": {
        "id": "kPwfhLQ_UnnH"
      },
      "source": [
        "## Evaluation"
      ]
    },
    {
      "cell_type": "code",
      "execution_count": null,
      "metadata": {
        "id": "jeVopZNDUnnH",
        "outputId": "5c62552f-eff4-4e00-8e65-317c75f5a15a"
      },
      "outputs": [
        {
          "name": "stdout",
          "output_type": "stream",
          "text": [
            "Episode: 1, reward: 1\n",
            "Episode: 2, reward: 0\n",
            "Episode: 3, reward: 0\n",
            "Episode: 4, reward: 1\n",
            "Episode: 5, reward: 0\n",
            "Episode: 6, reward: 1\n",
            "Episode: 7, reward: 0\n",
            "Episode: 8, reward: 1\n",
            "Episode: 9, reward: 0\n",
            "Episode: 10, reward: 1\n"
          ]
        }
      ],
      "source": [
        "episode = 10\n",
        "scores_window = collections.deque(maxlen=100)  # last 100 scores\n",
        "env = KukaDiverseObjectEnv(renders=False, isDiscrete=True, removeHeightHack=False, maxSteps=20, isTest=True)\n",
        "env.cid = p.connect(p.DIRECT)\n",
        "# load the model\n",
        "checkpoint = torch.load(PATH)\n",
        "policy_net.load_state_dict(checkpoint['policy_net_state_dict'])\n",
        "\n",
        "# evaluate the model\n",
        "for i_episode in range(episode):\n",
        "    env.reset()\n",
        "    state = get_screen()\n",
        "    stacked_states = collections.deque(STACK_SIZE*[state],maxlen=STACK_SIZE)\n",
        "    for t in count():\n",
        "        stacked_states_t =  torch.cat(tuple(stacked_states),dim=1)\n",
        "        # Select and perform an action\n",
        "        action = policy_net(stacked_states_t).max(1)[1].view(1, 1)\n",
        "        _, reward, done, _ = env.step(action.item())\n",
        "        # Observe new state\n",
        "        next_state = get_screen()\n",
        "        stacked_states.append(next_state)\n",
        "        if done:\n",
        "            break\n",
        "    print(\"Episode: {0:d}, reward: {1}\".format(i_episode+1, reward), end=\"\\n\")"
      ]
    }
  ],
  "metadata": {
    "kernelspec": {
      "display_name": "Python 3",
      "language": "python",
      "name": "python3"
    },
    "language_info": {
      "codemirror_mode": {
        "name": "ipython",
        "version": 3
      },
      "file_extension": ".py",
      "mimetype": "text/x-python",
      "name": "python",
      "nbconvert_exporter": "python",
      "pygments_lexer": "ipython3",
      "version": "3.6.9"
    },
    "colab": {
      "provenance": []
    }
  },
  "nbformat": 4,
  "nbformat_minor": 0
}